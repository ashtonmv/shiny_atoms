{
 "cells": [
  {
   "cell_type": "code",
   "execution_count": 1,
   "metadata": {},
   "outputs": [],
   "source": [
    "import subprocess"
   ]
  },
  {
   "cell_type": "code",
   "execution_count": 2,
   "metadata": {},
   "outputs": [],
   "source": [
    "from IPython.display import Image, display"
   ]
  },
  {
   "cell_type": "code",
   "execution_count": 3,
   "metadata": {},
   "outputs": [],
   "source": [
    "from ase.build import bulk"
   ]
  },
  {
   "cell_type": "code",
   "execution_count": 4,
   "metadata": {},
   "outputs": [],
   "source": [
    "from ovito.io import export_file"
   ]
  },
  {
   "cell_type": "code",
   "execution_count": 5,
   "metadata": {},
   "outputs": [],
   "source": [
    "from ovito.io.ase import ase_to_ovito"
   ]
  },
  {
   "cell_type": "code",
   "execution_count": 6,
   "metadata": {},
   "outputs": [],
   "source": [
    "from ovito.pipeline import Pipeline, StaticSource"
   ]
  },
  {
   "cell_type": "markdown",
   "metadata": {},
   "source": [
    "# ASE"
   ]
  },
  {
   "cell_type": "code",
   "execution_count": 7,
   "metadata": {},
   "outputs": [],
   "source": [
    "cu_atoms = bulk('Cu', 'fcc', a=3.6)"
   ]
  },
  {
   "cell_type": "code",
   "execution_count": 8,
   "metadata": {},
   "outputs": [],
   "source": [
    "atoms = cu_atoms.repeat([4,4,4])"
   ]
  },
  {
   "cell_type": "markdown",
   "metadata": {},
   "source": [
    "# Ovito"
   ]
  },
  {
   "cell_type": "code",
   "execution_count": 9,
   "metadata": {},
   "outputs": [],
   "source": [
    "pipeline = Pipeline(source = StaticSource(data = ase_to_ovito(atoms)))"
   ]
  },
  {
   "cell_type": "code",
   "execution_count": 10,
   "metadata": {},
   "outputs": [],
   "source": [
    "export_file(pipeline, \"ovito.pov\",  \"povray\")"
   ]
  },
  {
   "cell_type": "code",
   "execution_count": 11,
   "metadata": {},
   "outputs": [],
   "source": [
    "def shinify(\n",
    "    input_filename, output_filename, specular=0.8,\n",
    "    reflection=0.8, diffuse=0.8, light_intensity=1,\n",
    "    light_location=(None, None, None)\n",
    "):\n",
    "\n",
    "    \"\"\"\n",
    "    Adds finish properties to .pov output files generated from Ovito.\n",
    "    \n",
    "    args:\n",
    "        input_filename (str): existing .pov file created by Ovito\n",
    "        output_filename (str): desired filename for \"shiny\" .pov file\n",
    "        specular, reflection, diffuse: finish parameters from POV-Ray, applied to spheres (atoms) and cylinders (bonds)\n",
    "            see https://www.povray.org/documentation/view/3.6.1/79/ for more details/options.\n",
    "        light_intensity (float): multiplier for light intensity\n",
    "        light_location (tuple): x, y, and z coordinates of light fixture in the scene. You might have to use trial\n",
    "            and error to find the best location if Ovito's default isn't what you want.\n",
    "    \"\"\"\n",
    "\n",
    "    lines = open(input_filename).readlines()\n",
    "    with open(output_filename, \"w\") as f:\n",
    "        i = 0\n",
    "        light_fixed = False\n",
    "        while i < len(lines):\n",
    "            line = lines[i]\n",
    "\n",
    "            # Add your own lighting\n",
    "            # you can also mess with the light color and its intensity\n",
    "            if line.split()[0] == \"light_source\" and light_location[0] is not None:\n",
    "                f.write(\n",
    "                    \"light_source {\\n\"\n",
    "                    + f\"  <{light_location[0]}, {light_location[1]}, {light_location[2]}>\\n\"\n",
    "                    + \"  color <{light_intensity}, {light_intensity}, {light_intensity}>\\n\"\n",
    "                    + \"}\\n\"\n",
    "                )\n",
    "                i += 6\n",
    "                \n",
    "            # Add shiny finish to spherical atoms\n",
    "            if line[0:14] == \"#macro SPRTCLE\":\n",
    "                f.write(\n",
    "                    \"#macro SPRTCLE(pos, particleRadius, particleColor, spc, ref, dif) // Macro for spherical particles\\n\"\n",
    "                    + \"sphere { pos, particleRadius\\n\"\n",
    "                    + \"         texture { pigment { color particleColor } finish { specular spc reflection ref diffuse dif } }\\n\"\n",
    "                    + \"}\\n#end\\n\"\n",
    "                )\n",
    "                i += 4\n",
    "            elif line.split(\"(\")[0] == \"SPRTCLE\":\n",
    "                f.write(line.replace(\")\", f\", {specular}, {reflection}, {diffuse})\"))\n",
    "            \n",
    "            # Add shiny finish to cylindrical bonds\n",
    "            elif line[0:10] == \"#macro CYL\":\n",
    "                f.write(\n",
    "                    \"#macro CYL(base, dir, cylRadius, cylColor, spc, ref, dif) // Macro for cylinders\\n\"\n",
    "                    + \"cylinder { base, base + dir, cylRadius\\n\"\n",
    "                    + \"         texture { pigment { color cylColor } finish { specular spc reflection ref diffuse dif } }\\n\"\n",
    "                    + \"}\\n#end\\n\"\n",
    "                )\n",
    "                i += 4\n",
    "            elif line.split(\"(\")[0] == \"CYL\":\n",
    "                f.write(line.replace(\")\", f\", {specular}, {reflection}, {diffuse})\"))\n",
    "            else:\n",
    "                f.write(line)\n",
    "            i += 1\n",
    "\n"
   ]
  },
  {
   "cell_type": "code",
   "execution_count": 12,
   "metadata": {},
   "outputs": [],
   "source": [
    "shinify(\"ovito.pov\", \"ovito_shiny.pov\")"
   ]
  },
  {
   "cell_type": "code",
   "execution_count": 13,
   "metadata": {},
   "outputs": [
    {
     "data": {
      "text/plain": [
       "b''"
      ]
     },
     "execution_count": 13,
     "metadata": {},
     "output_type": "execute_result"
    }
   ],
   "source": [
    "subprocess.check_output([\"povray\", \"+H800\", \"+W800\", \"+Iovito_shiny.pov\", \"+Oovito.png\", \"+UA\"])"
   ]
  },
  {
   "cell_type": "code",
   "execution_count": 14,
   "metadata": {},
   "outputs": [
    {
     "data": {
      "image/png": "[encoded data removed]",
      "text/plain": [
       "<IPython.core.display.Image object>"
      ]
     },
     "metadata": {},
     "output_type": "display_data"
    }
   ],
   "source": [
    "display(Image(\"ovito.png\"))"
   ]
  }
 ],
 "metadata": {
  "kernelspec": {
   "display_name": "Python 3",
   "language": "python",
   "name": "python3"
  },
  "language_info": {
   "codemirror_mode": {
    "name": "ipython",
    "version": 3
   },
   "file_extension": ".py",
   "mimetype": "text/x-python",
   "name": "python",
   "nbconvert_exporter": "python",
   "pygments_lexer": "ipython3",
   "version": "3.8.2"
  }
 },
 "nbformat": 4,
 "nbformat_minor": 2
}
